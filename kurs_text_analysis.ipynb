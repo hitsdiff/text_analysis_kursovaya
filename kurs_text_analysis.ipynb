{
 "cells": [
  {
   "cell_type": "code",
   "execution_count": null,
   "id": "778299d6",
   "metadata": {},
   "outputs": [],
   "source": [
    "pip install vk_api"
   ]
  },
  {
   "cell_type": "code",
   "execution_count": null,
   "id": "0f6aa242",
   "metadata": {},
   "outputs": [],
   "source": [
    "pip install pymorphy2"
   ]
  },
  {
   "cell_type": "code",
   "execution_count": 1,
   "id": "1e9d2fc7",
   "metadata": {},
   "outputs": [],
   "source": [
    "from vk_api import VkApi\n",
    "import vk_api\n",
    "import re\n",
    "import numpy as np \n",
    "import pandas as pd \n",
    "import matplotlib.pyplot as plt \n",
    "%matplotlib inline\n",
    "\n",
    "from tensorflow.keras import utils \n",
    "\n",
    "from tensorflow.keras.models import Sequential\n",
    "from tensorflow.keras.optimizers import Adam\n",
    "from tensorflow.keras.layers import Dense, Dropout \n",
    "\n",
    "from tensorflow.keras.preprocessing.text import Tokenizer \n",
    "from sklearn.preprocessing import LabelEncoder \n",
    "from sklearn.model_selection import train_test_split \n",
    "#from keras.utils import plot_model"
   ]
  },
  {
   "cell_type": "code",
   "execution_count": null,
   "id": "220eb4c3",
   "metadata": {},
   "outputs": [],
   "source": [
    "# with open('token.txt') as f:\n",
    "#     token = f.readlines()[0]"
   ]
  },
  {
   "cell_type": "code",
   "execution_count": null,
   "id": "c7296f3a",
   "metadata": {},
   "outputs": [],
   "source": [
    "# def main(offset: int, token: str, group_id: str):\n",
    "#     vk = vk_api.VkApi(token=token) # авторизация через токен (желательно)\n",
    "#     api = vk.get_api()\n",
    "#     posts = api.wall.get(owner_id = group_id, offset = offset, count=100)['items']\n",
    "#     posts_strings = [post['text'] for post in posts]\n",
    "#     num_like = []\n",
    "#     comments_strings = []\n",
    "#     for post in posts:\n",
    "#         comments = api.wall.getComments(owner_id = group_id, post_id=post['id'], count=100)['items']\n",
    "#         comments_strings.append([comment['text'] for comment in comments])\n",
    "#         itemID = post['id']\n",
    "#         isLiked = api.likes.getList(\n",
    "#         type = 'post', \n",
    "#         owner_id = group_id, \n",
    "#         item_id = itemID               \n",
    "#         )\n",
    "#         num_like.append(isLiked['count'])\n",
    "#     return posts_strings, comments_strings, num_like\n"
   ]
  },
  {
   "cell_type": "code",
   "execution_count": null,
   "id": "2336b8ae",
   "metadata": {
    "scrolled": true
   },
   "outputs": [],
   "source": [
    "# combolist_posts = []\n",
    "# combolist_comments = []\n",
    "# combolist_like_count = []\n",
    "# group_id = '-39895326'\n",
    "# for i in range(0, 501, 100):\n",
    "#     try:\n",
    "#         rzd_posts, comments_strings_rzd, rzd_like_count = main( offset=i,token = token, group_id = group_id)\n",
    "#         combolist_posts.extend(rzd_posts)\n",
    "#         #print(combolist_posts)\n",
    "#         combolist_comments.extend(comments_strings_rzd)\n",
    "#         combolist_like_count.extend(rzd_like_count)\n",
    "#     except:\n",
    "#         print('Постов больше нет на смещении: ', i)\n"
   ]
  },
  {
   "cell_type": "code",
   "execution_count": null,
   "id": "f20a0ad1",
   "metadata": {},
   "outputs": [],
   "source": [
    "# print(len(combolist_comments))"
   ]
  },
  {
   "cell_type": "code",
   "execution_count": null,
   "id": "b446e842",
   "metadata": {},
   "outputs": [],
   "source": [
    "# data = {'posts': combolist_posts, 'comments':combolist_comments,'count_likes': combolist_like_count}\n",
    "# df=pd.DataFrame(data)\n",
    "# df"
   ]
  },
  {
   "cell_type": "code",
   "execution_count": null,
   "id": "c62b9b96",
   "metadata": {},
   "outputs": [],
   "source": [
    "# df.to_excel(\"air_news.xlsx\")"
   ]
  },
  {
   "cell_type": "code",
   "execution_count": null,
   "id": "a192a796",
   "metadata": {},
   "outputs": [],
   "source": [
    "# df_flagman=pd.read_excel (\"flagman.xlsx\")\n",
    "# df_flot_moryak=pd.read_excel (\"flot_moryak.xlsx\")\n",
    "# df_24_air_news=pd.read_excel (\"24_air_news.xlsx\")\n",
    "# df_air_news=pd.read_excel (\"air_news.xlsx\")"
   ]
  },
  {
   "cell_type": "code",
   "execution_count": null,
   "id": "a75989fe",
   "metadata": {},
   "outputs": [],
   "source": [
    "# df_air_water_transp = df_flagman.append(df_flot_moryak, ignore_index=True, sort=False)\n",
    "# df_air_water_transp = df_air_water_transp.append(df_24_air_news, ignore_index=True, sort=False)\n",
    "# df_air_water_transp = df_air_water_transp.append(df_air_news, ignore_index=True, sort=False)"
   ]
  },
  {
   "cell_type": "code",
   "execution_count": null,
   "id": "cbc8c2a9",
   "metadata": {},
   "outputs": [],
   "source": [
    "# df_air_water_transp"
   ]
  },
  {
   "cell_type": "code",
   "execution_count": null,
   "id": "2c3aecfe",
   "metadata": {},
   "outputs": [],
   "source": [
    "# df_air_water_transp.to_excel(\"air_water_transp.xlsx\")"
   ]
  },
  {
   "cell_type": "code",
   "execution_count": 2,
   "id": "295eae61",
   "metadata": {},
   "outputs": [],
   "source": [
    "df_air_water_transp=pd.read_excel (\"air_water_transp.xlsx\")"
   ]
  },
  {
   "cell_type": "code",
   "execution_count": 3,
   "id": "a7493293",
   "metadata": {},
   "outputs": [
    {
     "data": {
      "text/html": [
       "<div>\n",
       "<style scoped>\n",
       "    .dataframe tbody tr th:only-of-type {\n",
       "        vertical-align: middle;\n",
       "    }\n",
       "\n",
       "    .dataframe tbody tr th {\n",
       "        vertical-align: top;\n",
       "    }\n",
       "\n",
       "    .dataframe thead th {\n",
       "        text-align: right;\n",
       "    }\n",
       "</style>\n",
       "<table border=\"1\" class=\"dataframe\">\n",
       "  <thead>\n",
       "    <tr style=\"text-align: right;\">\n",
       "      <th></th>\n",
       "      <th>posts</th>\n",
       "      <th>comments</th>\n",
       "      <th>count_likes</th>\n",
       "      <th>category</th>\n",
       "    </tr>\n",
       "  </thead>\n",
       "  <tbody>\n",
       "    <tr>\n",
       "      <th>0</th>\n",
       "      <td>⚡В ЗЕЛЕНОДОЛЬСКЕ СПУЩЕНО НА ВОДУ СПК «МИХАИЛ Д...</td>\n",
       "      <td>['А Кама, опять в пролёте.', 'Рубка просто жес...</td>\n",
       "      <td>245</td>\n",
       "      <td>водный транспорт</td>\n",
       "    </tr>\n",
       "    <tr>\n",
       "      <th>1</th>\n",
       "      <td>⚡НА \"КРАСНОМ СОРМОВЕ\" ЗАЛОЖИЛИ МЛАДШЕГО БРАТА ...</td>\n",
       "      <td>['Симпатичнее Карима!']</td>\n",
       "      <td>61</td>\n",
       "      <td>водный транспорт</td>\n",
       "    </tr>\n",
       "    <tr>\n",
       "      <th>2</th>\n",
       "      <td>⚡ГЛАВНЫЕ СУДОСТРОИТЕЛЬНЫЕ НОВОСТИ ЗА 27 АПРЕЛЯ...</td>\n",
       "      <td>[]</td>\n",
       "      <td>38</td>\n",
       "      <td>водный транспорт</td>\n",
       "    </tr>\n",
       "    <tr>\n",
       "      <th>3</th>\n",
       "      <td>⚡СВЕЖИЕ КАДРЫ ИЗ ЯРОСЛАВСКОГО РЕЧНОГО ПОРТА\\n\\...</td>\n",
       "      <td>['Мрак']</td>\n",
       "      <td>46</td>\n",
       "      <td>водный транспорт</td>\n",
       "    </tr>\n",
       "    <tr>\n",
       "      <th>4</th>\n",
       "      <td>⚡ГРУЗОВАЯ ЛИНИЯ АРХАНГЕЛЬСК – ПЕВЕК ПРОДОЛЖИТ ...</td>\n",
       "      <td>['']</td>\n",
       "      <td>31</td>\n",
       "      <td>водный транспорт</td>\n",
       "    </tr>\n",
       "    <tr>\n",
       "      <th>...</th>\n",
       "      <td>...</td>\n",
       "      <td>...</td>\n",
       "      <td>...</td>\n",
       "      <td>...</td>\n",
       "    </tr>\n",
       "    <tr>\n",
       "      <th>2395</th>\n",
       "      <td>Самолет \"Аэрофлота\", летевший в субботу из Мос...</td>\n",
       "      <td>['Почему? Что, португальцы начали бомбить Воро...</td>\n",
       "      <td>3</td>\n",
       "      <td>авиа транспорт</td>\n",
       "    </tr>\n",
       "    <tr>\n",
       "      <th>2396</th>\n",
       "      <td>NaN</td>\n",
       "      <td>['На таком старом не страшно летать?', 'Все за...</td>\n",
       "      <td>46</td>\n",
       "      <td>авиа транспорт</td>\n",
       "    </tr>\n",
       "    <tr>\n",
       "      <th>2397</th>\n",
       "      <td>Boeing 777-200ER American Airlines - заход на ...</td>\n",
       "      <td>[]</td>\n",
       "      <td>7</td>\n",
       "      <td>авиа транспорт</td>\n",
       "    </tr>\n",
       "    <tr>\n",
       "      <th>2398</th>\n",
       "      <td>Семь лет назад был сбил пассажирский самолет \"...</td>\n",
       "      <td>['Щас начнётся...🤦\\u200d♂️', 'уже суд идёт и п...</td>\n",
       "      <td>6</td>\n",
       "      <td>авиа транспорт</td>\n",
       "    </tr>\n",
       "    <tr>\n",
       "      <th>2399</th>\n",
       "      <td>Легкомоторный самолет Piper потерпел крушение ...</td>\n",
       "      <td>[]</td>\n",
       "      <td>1</td>\n",
       "      <td>авиа транспорт</td>\n",
       "    </tr>\n",
       "  </tbody>\n",
       "</table>\n",
       "<p>2400 rows × 4 columns</p>\n",
       "</div>"
      ],
      "text/plain": [
       "                                                  posts  \\\n",
       "0     ⚡В ЗЕЛЕНОДОЛЬСКЕ СПУЩЕНО НА ВОДУ СПК «МИХАИЛ Д...   \n",
       "1     ⚡НА \"КРАСНОМ СОРМОВЕ\" ЗАЛОЖИЛИ МЛАДШЕГО БРАТА ...   \n",
       "2     ⚡ГЛАВНЫЕ СУДОСТРОИТЕЛЬНЫЕ НОВОСТИ ЗА 27 АПРЕЛЯ...   \n",
       "3     ⚡СВЕЖИЕ КАДРЫ ИЗ ЯРОСЛАВСКОГО РЕЧНОГО ПОРТА\\n\\...   \n",
       "4     ⚡ГРУЗОВАЯ ЛИНИЯ АРХАНГЕЛЬСК – ПЕВЕК ПРОДОЛЖИТ ...   \n",
       "...                                                 ...   \n",
       "2395  Самолет \"Аэрофлота\", летевший в субботу из Мос...   \n",
       "2396                                                NaN   \n",
       "2397  Boeing 777-200ER American Airlines - заход на ...   \n",
       "2398  Семь лет назад был сбил пассажирский самолет \"...   \n",
       "2399  Легкомоторный самолет Piper потерпел крушение ...   \n",
       "\n",
       "                                               comments  count_likes  \\\n",
       "0     ['А Кама, опять в пролёте.', 'Рубка просто жес...          245   \n",
       "1                               ['Симпатичнее Карима!']           61   \n",
       "2                                                    []           38   \n",
       "3                                              ['Мрак']           46   \n",
       "4                                                  ['']           31   \n",
       "...                                                 ...          ...   \n",
       "2395  ['Почему? Что, португальцы начали бомбить Воро...            3   \n",
       "2396  ['На таком старом не страшно летать?', 'Все за...           46   \n",
       "2397                                                 []            7   \n",
       "2398  ['Щас начнётся...🤦\\u200d♂️', 'уже суд идёт и п...            6   \n",
       "2399                                                 []            1   \n",
       "\n",
       "              category  \n",
       "0     водный транспорт  \n",
       "1     водный транспорт  \n",
       "2     водный транспорт  \n",
       "3     водный транспорт  \n",
       "4     водный транспорт  \n",
       "...                ...  \n",
       "2395    авиа транспорт  \n",
       "2396    авиа транспорт  \n",
       "2397    авиа транспорт  \n",
       "2398    авиа транспорт  \n",
       "2399    авиа транспорт  \n",
       "\n",
       "[2400 rows x 4 columns]"
      ]
     },
     "execution_count": 3,
     "metadata": {},
     "output_type": "execute_result"
    }
   ],
   "source": [
    "df_air_water_transp"
   ]
  },
  {
   "cell_type": "code",
   "execution_count": 4,
   "id": "903007fe",
   "metadata": {},
   "outputs": [],
   "source": [
    "df_text = df_air_water_transp[['posts','category']]"
   ]
  },
  {
   "cell_type": "markdown",
   "id": "369c0a23",
   "metadata": {},
   "source": [
    "# EDA"
   ]
  },
  {
   "cell_type": "code",
   "execution_count": 5,
   "id": "9b623e89",
   "metadata": {},
   "outputs": [
    {
     "name": "stdout",
     "output_type": "stream",
     "text": [
      "2400\n"
     ]
    },
    {
     "data": {
      "text/plain": [
       "posts       179\n",
       "category      0\n",
       "dtype: int64"
      ]
     },
     "execution_count": 5,
     "metadata": {},
     "output_type": "execute_result"
    }
   ],
   "source": [
    "# Анализ пропусков\n",
    "print(len(df_text))\n",
    "df_text.isnull().sum()"
   ]
  },
  {
   "cell_type": "code",
   "execution_count": 6,
   "id": "2cbbf688",
   "metadata": {},
   "outputs": [],
   "source": [
    "df_text = df_text.dropna()"
   ]
  },
  {
   "cell_type": "code",
   "execution_count": 7,
   "id": "cf108d1b",
   "metadata": {},
   "outputs": [
    {
     "data": {
      "text/html": [
       "<div>\n",
       "<style scoped>\n",
       "    .dataframe tbody tr th:only-of-type {\n",
       "        vertical-align: middle;\n",
       "    }\n",
       "\n",
       "    .dataframe tbody tr th {\n",
       "        vertical-align: top;\n",
       "    }\n",
       "\n",
       "    .dataframe thead th {\n",
       "        text-align: right;\n",
       "    }\n",
       "</style>\n",
       "<table border=\"1\" class=\"dataframe\">\n",
       "  <thead>\n",
       "    <tr style=\"text-align: right;\">\n",
       "      <th></th>\n",
       "      <th>posts</th>\n",
       "      <th>category</th>\n",
       "    </tr>\n",
       "  </thead>\n",
       "  <tbody>\n",
       "    <tr>\n",
       "      <th>719</th>\n",
       "      <td>2nd Engineer \\nSalary: from 4000 $ / month \\nJ...</td>\n",
       "      <td>водный транспорт</td>\n",
       "    </tr>\n",
       "    <tr>\n",
       "      <th>1083</th>\n",
       "      <td>Bloomberg сообщил о планах США пока не допуска...</td>\n",
       "      <td>водный транспорт</td>\n",
       "    </tr>\n",
       "    <tr>\n",
       "      <th>881</th>\n",
       "      <td>CV get - работа морякам. Мировые крюинги и суд...</td>\n",
       "      <td>водный транспорт</td>\n",
       "    </tr>\n",
       "    <tr>\n",
       "      <th>1020</th>\n",
       "      <td>CV get - работа морякам. Мировые крюинги и суд...</td>\n",
       "      <td>водный транспорт</td>\n",
       "    </tr>\n",
       "    <tr>\n",
       "      <th>940</th>\n",
       "      <td>CV get - работа морякам. Мировые крюинги и суд...</td>\n",
       "      <td>водный транспорт</td>\n",
       "    </tr>\n",
       "    <tr>\n",
       "      <th>1156</th>\n",
       "      <td>CV get - работа морякам. Мировые крюинги и суд...</td>\n",
       "      <td>водный транспорт</td>\n",
       "    </tr>\n",
       "    <tr>\n",
       "      <th>855</th>\n",
       "      <td>CV get - работа морякам. Мировые крюинги и суд...</td>\n",
       "      <td>водный транспорт</td>\n",
       "    </tr>\n",
       "    <tr>\n",
       "      <th>794</th>\n",
       "      <td>CV get - работа морякам. Мировые крюинги и суд...</td>\n",
       "      <td>водный транспорт</td>\n",
       "    </tr>\n",
       "    <tr>\n",
       "      <th>970</th>\n",
       "      <td>CV get - работа морякам. Мировые крюинги и суд...</td>\n",
       "      <td>водный транспорт</td>\n",
       "    </tr>\n",
       "    <tr>\n",
       "      <th>753</th>\n",
       "      <td>CV get - работа морякам. Мировые крюинги и суд...</td>\n",
       "      <td>водный транспорт</td>\n",
       "    </tr>\n",
       "    <tr>\n",
       "      <th>688</th>\n",
       "      <td>CV get - работа морякам. Мировые крюинги и суд...</td>\n",
       "      <td>водный транспорт</td>\n",
       "    </tr>\n",
       "    <tr>\n",
       "      <th>653</th>\n",
       "      <td>CV get - работа морякам. Мировые крюинги и суд...</td>\n",
       "      <td>водный транспорт</td>\n",
       "    </tr>\n",
       "    <tr>\n",
       "      <th>641</th>\n",
       "      <td>CV get - работа морякам. Мировые крюинги и суд...</td>\n",
       "      <td>водный транспорт</td>\n",
       "    </tr>\n",
       "    <tr>\n",
       "      <th>1097</th>\n",
       "      <td>CV get - работа морякам. Мировые крюинги и суд...</td>\n",
       "      <td>водный транспорт</td>\n",
       "    </tr>\n",
       "    <tr>\n",
       "      <th>1121</th>\n",
       "      <td>CV get - работа морякам. Мировые крюинги и суд...</td>\n",
       "      <td>водный транспорт</td>\n",
       "    </tr>\n",
       "    <tr>\n",
       "      <th>1146</th>\n",
       "      <td>CV get - работа морякам. Мировые крюинги и суд...</td>\n",
       "      <td>водный транспорт</td>\n",
       "    </tr>\n",
       "    <tr>\n",
       "      <th>721</th>\n",
       "      <td>CV get - работа морякам. Мировые крюинги и суд...</td>\n",
       "      <td>водный транспорт</td>\n",
       "    </tr>\n",
       "    <tr>\n",
       "      <th>1001</th>\n",
       "      <td>CV get - работа морякам. Мировые крюинги и суд...</td>\n",
       "      <td>водный транспорт</td>\n",
       "    </tr>\n",
       "    <tr>\n",
       "      <th>1052</th>\n",
       "      <td>http://cvget.ru/</td>\n",
       "      <td>водный транспорт</td>\n",
       "    </tr>\n",
       "    <tr>\n",
       "      <th>1192</th>\n",
       "      <td>http://cvget.ru/</td>\n",
       "      <td>водный транспорт</td>\n",
       "    </tr>\n",
       "    <tr>\n",
       "      <th>783</th>\n",
       "      <td>Илья Волынский: от дноуглубительных работ зави...</td>\n",
       "      <td>водный транспорт</td>\n",
       "    </tr>\n",
       "    <tr>\n",
       "      <th>1084</th>\n",
       "      <td>Россия и Пакистан достигли концептуальных дого...</td>\n",
       "      <td>водный транспорт</td>\n",
       "    </tr>\n",
       "    <tr>\n",
       "      <th>955</th>\n",
       "      <td>Россия расширила географию поставок топлива, з...</td>\n",
       "      <td>водный транспорт</td>\n",
       "    </tr>\n",
       "    <tr>\n",
       "      <th>932</th>\n",
       "      <td>Таяние ледника Туэйтса в Антарктиде может затр...</td>\n",
       "      <td>водный транспорт</td>\n",
       "    </tr>\n",
       "    <tr>\n",
       "      <th>111</th>\n",
       "      <td>⚡ДОРОГИЕ ДРУЗЬЯ! МЫ НЕДАВНО ВОЗРОДИЛИ ТЕЛЕГРАМ...</td>\n",
       "      <td>водный транспорт</td>\n",
       "    </tr>\n",
       "    <tr>\n",
       "      <th>358</th>\n",
       "      <td>⚡ПРИГЛАШАЕМ НА РАБОТУ! \\n \\n⚓Туристическая ком...</td>\n",
       "      <td>водный транспорт</td>\n",
       "    </tr>\n",
       "    <tr>\n",
       "      <th>352</th>\n",
       "      <td>⚡ПРИГЛАШАЕМ НА РАБОТУ! \\n \\n⚓Туристическая ком...</td>\n",
       "      <td>водный транспорт</td>\n",
       "    </tr>\n",
       "    <tr>\n",
       "      <th>339</th>\n",
       "      <td>⚡ПРИГЛАШАЕМ НА РАБОТУ! \\n \\n⚓Туристическая ком...</td>\n",
       "      <td>водный транспорт</td>\n",
       "    </tr>\n",
       "  </tbody>\n",
       "</table>\n",
       "</div>"
      ],
      "text/plain": [
       "                                                  posts          category\n",
       "719   2nd Engineer \\nSalary: from 4000 $ / month \\nJ...  водный транспорт\n",
       "1083  Bloomberg сообщил о планах США пока не допуска...  водный транспорт\n",
       "881   CV get - работа морякам. Мировые крюинги и суд...  водный транспорт\n",
       "1020  CV get - работа морякам. Мировые крюинги и суд...  водный транспорт\n",
       "940   CV get - работа морякам. Мировые крюинги и суд...  водный транспорт\n",
       "1156  CV get - работа морякам. Мировые крюинги и суд...  водный транспорт\n",
       "855   CV get - работа морякам. Мировые крюинги и суд...  водный транспорт\n",
       "794   CV get - работа морякам. Мировые крюинги и суд...  водный транспорт\n",
       "970   CV get - работа морякам. Мировые крюинги и суд...  водный транспорт\n",
       "753   CV get - работа морякам. Мировые крюинги и суд...  водный транспорт\n",
       "688   CV get - работа морякам. Мировые крюинги и суд...  водный транспорт\n",
       "653   CV get - работа морякам. Мировые крюинги и суд...  водный транспорт\n",
       "641   CV get - работа морякам. Мировые крюинги и суд...  водный транспорт\n",
       "1097  CV get - работа морякам. Мировые крюинги и суд...  водный транспорт\n",
       "1121  CV get - работа морякам. Мировые крюинги и суд...  водный транспорт\n",
       "1146  CV get - работа морякам. Мировые крюинги и суд...  водный транспорт\n",
       "721   CV get - работа морякам. Мировые крюинги и суд...  водный транспорт\n",
       "1001  CV get - работа морякам. Мировые крюинги и суд...  водный транспорт\n",
       "1052                                   http://cvget.ru/  водный транспорт\n",
       "1192                                   http://cvget.ru/  водный транспорт\n",
       "783   Илья Волынский: от дноуглубительных работ зави...  водный транспорт\n",
       "1084  Россия и Пакистан достигли концептуальных дого...  водный транспорт\n",
       "955   Россия расширила географию поставок топлива, з...  водный транспорт\n",
       "932   Таяние ледника Туэйтса в Антарктиде может затр...  водный транспорт\n",
       "111   ⚡ДОРОГИЕ ДРУЗЬЯ! МЫ НЕДАВНО ВОЗРОДИЛИ ТЕЛЕГРАМ...  водный транспорт\n",
       "358   ⚡ПРИГЛАШАЕМ НА РАБОТУ! \\n \\n⚓Туристическая ком...  водный транспорт\n",
       "352   ⚡ПРИГЛАШАЕМ НА РАБОТУ! \\n \\n⚓Туристическая ком...  водный транспорт\n",
       "339   ⚡ПРИГЛАШАЕМ НА РАБОТУ! \\n \\n⚓Туристическая ком...  водный транспорт"
      ]
     },
     "execution_count": 7,
     "metadata": {},
     "output_type": "execute_result"
    }
   ],
   "source": [
    "#Дубликаты\n",
    "duplicateRows = df_text[df_text.duplicated()]\n",
    "duplicateRows.sort_values(by = 'posts')"
   ]
  },
  {
   "cell_type": "code",
   "execution_count": 8,
   "id": "ff761466",
   "metadata": {},
   "outputs": [],
   "source": [
    "df_text.drop_duplicates(inplace=True)"
   ]
  },
  {
   "cell_type": "code",
   "execution_count": 9,
   "id": "d4dac764",
   "metadata": {},
   "outputs": [
    {
     "name": "stdout",
     "output_type": "stream",
     "text": [
      "2193\n"
     ]
    }
   ],
   "source": [
    "print(len(df_text))"
   ]
  },
  {
   "cell_type": "code",
   "execution_count": 10,
   "id": "71e06dfc",
   "metadata": {},
   "outputs": [
    {
     "data": {
      "text/plain": [
       "1    2193\n",
       "dtype: int64"
      ]
     },
     "execution_count": 10,
     "metadata": {},
     "output_type": "execute_result"
    }
   ],
   "source": [
    "# Анализ уникальности и дубликатов\n",
    "pd.DataFrame(df_text['posts'].value_counts().values).value_counts()"
   ]
  },
  {
   "cell_type": "code",
   "execution_count": 11,
   "id": "af77fc7a",
   "metadata": {},
   "outputs": [
    {
     "data": {
      "text/plain": [
       "1    2193\n",
       "dtype: int64"
      ]
     },
     "execution_count": 11,
     "metadata": {},
     "output_type": "execute_result"
    }
   ],
   "source": [
    "# Приводм данные к строчному виду\n",
    "df_text['posts'] = [x.lower() for x in df_text['posts']]\n",
    "pd.DataFrame(df_text['posts'].value_counts().values).value_counts()"
   ]
  },
  {
   "cell_type": "code",
   "execution_count": 12,
   "id": "0091c720",
   "metadata": {},
   "outputs": [
    {
     "data": {
      "text/plain": [
       "1    2187\n",
       "2       3\n",
       "dtype: int64"
      ]
     },
     "execution_count": 12,
     "metadata": {},
     "output_type": "execute_result"
    }
   ],
   "source": [
    "# Удаляем рабочие символы и знаки припенания \n",
    "df_text['posts'] = [re.sub(r'\\W+', ' ', x) for x in df_text['posts']]\n",
    "df_text['posts'] = [x[0:x.find('новости flagmannews')] for x in df_text['posts']]\n",
    "pd.DataFrame(df_text['posts'].value_counts().values).value_counts()"
   ]
  },
  {
   "cell_type": "code",
   "execution_count": 13,
   "id": "a85e3fd1",
   "metadata": {},
   "outputs": [
    {
     "data": {
      "text/plain": [
       "'литва выясняет обстоятельства полета таинственного самолета без разрешения пролетевшего через 6 стран нато в литве полиция устанавливает обстоятельства полета таинственного самолета без разрешения пролетевшего через воздушное пространство шести стран членов нато в четверг вечером болгария сообщила что из литвы вылетел небольшой самолет и без разрешения пролетел над несколькими странами восточной европы привлекая внимание военно воздушных сил после приземления в болгарии неизвестная команда покинула самолет министр внутренних дел болгарии бойко рашков заявил журналистам что самолет вылетел из литвы и без разрешения пролетел над польшей словакией венгрией сербией румынией и наконец то достиг воздушного пространства болгарии в общей сложности самолет пролетел около 1600 км как сообщил агентству bns представитель департамента полиции рамунас матонис досудебное расследование по делу пока не началось пока выясняются обстоятельства известно что в самолете было два человека у них не было утвержденного плана полета транспондеры самолета были отключены пилот не реагировал на радиозапросы и визуальные сигналы в венгрии и румынии самолет в болгарию сопровождали истребители воздушная навигация сообщила bns что за последние 90 дней не получала планов полета команда самолета не вступала в контакт с операторами по данным портала lrt lt этот самолет piper pa 23 250 aztec на прошлой неделе продал директор аэропарка ниды пилот бронюс заронскис однако он утверждает что не знает кем были покупатели это не были литовцы я не могу сказать из какой они страны может украинцы может румыны или болгары мы общались с одним человеком на русском языке я не знаю имен мужчин меня это не интересовало сказал он порталу lrt lt по словам заронскиса самолет приобрела некая организация я продал и попрощался с этим самолетом я продаю его уже много лет мне некуда было его деть поэтому я рад что его купили я не помню какая организация купила на иностранном языке написали какие то иероглифы трудно даже прочесть сказал заронскис он добавил что самолет был шестиместным и что купившие его люди были настроены дружелюбно'"
      ]
     },
     "execution_count": 13,
     "metadata": {},
     "output_type": "execute_result"
    }
   ],
   "source": [
    "df_text['posts'].iloc[2000]"
   ]
  },
  {
   "cell_type": "code",
   "execution_count": 14,
   "id": "0c878807",
   "metadata": {},
   "outputs": [
    {
     "name": "stdout",
     "output_type": "stream",
     "text": [
      "Количество слов в массиве с обращениями 56103\n"
     ]
    }
   ],
   "source": [
    "# Посмотрим сколько различных слов в нашем массиве\n",
    "results = set()\n",
    "df_text['posts'].str.lower().str.split().apply(results.update)\n",
    "print('Количество слов в массиве с обращениями', len(results))"
   ]
  },
  {
   "cell_type": "markdown",
   "id": "b8eed945",
   "metadata": {},
   "source": [
    "# Инженерия данных"
   ]
  },
  {
   "cell_type": "code",
   "execution_count": 15,
   "id": "d8ea8143",
   "metadata": {},
   "outputs": [
    {
     "name": "stdout",
     "output_type": "stream",
     "text": [
      "['водный транспорт' 'авиа транспорт']\n",
      "3\n"
     ]
    }
   ],
   "source": [
    "texts = df_text['posts'].values\n",
    "\n",
    "classes = list(df_text['category'].values) \n",
    "\n",
    "maxWordsCount = 50000 #Зададим максимальное количество слов/индексов, учитываемое при обучении текстов\n",
    "\n",
    "print(df_text['category'].unique()) \n",
    "\n",
    "nClasses = df_text['category'].nunique()+1  #Задаём количество классов, обращаясь к столбцу category и оставляя уникальные значения\n",
    "\n",
    "print(nClasses) #Посмотрим на количество классов"
   ]
  },
  {
   "cell_type": "code",
   "execution_count": 16,
   "id": "6e8a0db0",
   "metadata": {},
   "outputs": [
    {
     "data": {
      "text/plain": [
       "2193"
      ]
     },
     "execution_count": 16,
     "metadata": {},
     "output_type": "execute_result"
    }
   ],
   "source": [
    "len(classes)"
   ]
  },
  {
   "cell_type": "code",
   "execution_count": 17,
   "id": "06d9c85d",
   "metadata": {},
   "outputs": [
    {
     "data": {
      "text/plain": [
       "(2193,)"
      ]
     },
     "execution_count": 17,
     "metadata": {},
     "output_type": "execute_result"
    }
   ],
   "source": [
    "texts.shape"
   ]
  },
  {
   "cell_type": "code",
   "execution_count": 18,
   "id": "f9ce4b59",
   "metadata": {},
   "outputs": [
    {
     "name": "stdout",
     "output_type": "stream",
     "text": [
      "(2193, 50000)\n",
      "[0. 0. 1. 1. 1. 1. 1. 1. 1. 1. 1. 1. 0. 1. 1. 0. 1. 0. 0. 1.]\n"
     ]
    }
   ],
   "source": [
    "tokenizer = Tokenizer(num_words=maxWordsCount, filters='!\"#$%&()*+,-./:;<=>?@[\\\\]^_`{|}~\\t\\n',\n",
    "                      lower=True, split=' ', oov_token='unknown', char_level=False)\n",
    "\n",
    "tokenizer.fit_on_texts(texts) #Собираем словарь частотности\n",
    "\n",
    "#Формируем матрицу индексов по принципу Bag of Words\n",
    "xAll = tokenizer.texts_to_matrix(texts) #Каждое слово из текста нашло свой индекс в векторе длиной maxWordsCount и отметилось в нем единичкой \n",
    "print(xAll.shape)  #Посмотрим на форму текстов\n",
    "print(xAll[0, :20]) #И отдельно на фрагмент начала вектора\n"
   ]
  },
  {
   "cell_type": "code",
   "execution_count": 19,
   "id": "1fde98ce",
   "metadata": {},
   "outputs": [
    {
     "data": {
      "text/plain": [
       "' в зеленодольске спущено на воду спк михаил девятаев торжественная церемония спуска и крещения новенького спк проекта 03830 метеор 2020 состоялась 29 апреля 2023 года на ао зеленодольский завод имени а м горького на борту новоиспеченного спк красуется имя героя советского союза михаила петровича девятаева напомним военный летчик михаил петрович девятаев в 1938 году окончил казанский речной техникум после чего работал помощником капитана баркаса на волге лишь два года спустя в 1940 м он окончил чкаловское военное авиационное училище это именно тот летчик которого впоследствии называли личным врагом гитлера 8 февраля 1945 года михаил девятаев с группой товарищей смог бежать из концлагеря угнав бомбардировщик и передать разведке секретные данные о ракете фау 2 об этом фильм т бекмамбетова девятаев 2021 именно его имя присвоено головному спк проекта 03830 торжественная церемония закладки судна состоялась 28 февраля 2023 года с участием раиса республики татарстан рустама минниханова крестной матерью судна стала внучка михаила девятаева директор фонда его памяти диана девятаева она и разбила по традиции о носовую часть судна бутылку шампанского проект скоростных пассажирских судов на подводных крыльях спк проекта 03830 метеор 2020 разработало бюро си тех нижний новгород и у проекта есть важные отличия от других спк модернизированная крыльевая схема обеспечивает уменьшение перегрузок при волнении большую высоту преодолеваемой волны меньшее время выхода на крылья и другие преимущества основные характеристики судна метеор 2020 класс о 2 0 1 4 спк а пассажирское длина габаритная 36 метров ширина габаритная 11 метров осадка габаритная на плаву 2 05 метров пассажировместимость 122 человека в т ч 2 места для лиц с ограниченными возможностями экипаж 6 человек в т ч один кассир максимальная скорость судна на тихой воде более 75 км час продолжительность рейса 13 часов запас хода при эксплуатационной скорости не менее 700 км а еще достоин похвалы дизайн внутренних помещений просторный салон оборудован удобными креслами доступом к мультимедийному контенту с помощью wi fi багажным отделением закрытыми полками для ручной клади дизайн проекта 03830 уже получил престижную награду на европейском конкурсе промышленного дизайна epda а это что нибудь да значит планируется что всего в 2023 году зеленодольский судостроительный завод сдаст четыре спк метеор 2020 два из них будут эксплуатироваться в самом татарстане вторая двойка метеоров отправится на работу в ханты мансийский автономный округ '"
      ]
     },
     "execution_count": 19,
     "metadata": {},
     "output_type": "execute_result"
    }
   ],
   "source": [
    "texts[0]"
   ]
  },
  {
   "cell_type": "code",
   "execution_count": 20,
   "id": "b1e56c47",
   "metadata": {},
   "outputs": [],
   "source": [
    "# Получим список слов, входящих в наш токенизатор (при наличии установленного maxWordsCount)\n",
    "list_columns = ['статус_отступа']\n",
    "\n",
    "for key_word in list(tokenizer.word_index.keys())[:maxWordsCount-1]:\n",
    "    list_columns.append(key_word)\n"
   ]
  },
  {
   "cell_type": "code",
   "execution_count": 21,
   "id": "6ea87d40",
   "metadata": {},
   "outputs": [
    {
     "data": {
      "text/html": [
       "<div>\n",
       "<style scoped>\n",
       "    .dataframe tbody tr th:only-of-type {\n",
       "        vertical-align: middle;\n",
       "    }\n",
       "\n",
       "    .dataframe tbody tr th {\n",
       "        vertical-align: top;\n",
       "    }\n",
       "\n",
       "    .dataframe thead th {\n",
       "        text-align: right;\n",
       "    }\n",
       "</style>\n",
       "<table border=\"1\" class=\"dataframe\">\n",
       "  <thead>\n",
       "    <tr style=\"text-align: right;\">\n",
       "      <th></th>\n",
       "      <th>статус_отступа</th>\n",
       "      <th>unknown</th>\n",
       "      <th>в</th>\n",
       "      <th>и</th>\n",
       "      <th>на</th>\n",
       "      <th>с</th>\n",
       "      <th>по</th>\n",
       "      <th>что</th>\n",
       "      <th>из</th>\n",
       "      <th>для</th>\n",
       "      <th>...</th>\n",
       "      <th>махараштра</th>\n",
       "      <th>340a</th>\n",
       "      <th>tg</th>\n",
       "      <th>флорес</th>\n",
       "      <th>гватемала</th>\n",
       "      <th>сгки</th>\n",
       "      <th>установочным</th>\n",
       "      <th>габаритным</th>\n",
       "      <th>аналогом</th>\n",
       "      <th>бабурова</th>\n",
       "    </tr>\n",
       "  </thead>\n",
       "  <tbody>\n",
       "    <tr>\n",
       "      <th>0</th>\n",
       "      <td>0.0</td>\n",
       "      <td>0.0</td>\n",
       "      <td>1.0</td>\n",
       "      <td>1.0</td>\n",
       "      <td>1.0</td>\n",
       "      <td>1.0</td>\n",
       "      <td>1.0</td>\n",
       "      <td>1.0</td>\n",
       "      <td>1.0</td>\n",
       "      <td>1.0</td>\n",
       "      <td>...</td>\n",
       "      <td>0.0</td>\n",
       "      <td>0.0</td>\n",
       "      <td>0.0</td>\n",
       "      <td>0.0</td>\n",
       "      <td>0.0</td>\n",
       "      <td>0.0</td>\n",
       "      <td>0.0</td>\n",
       "      <td>0.0</td>\n",
       "      <td>0.0</td>\n",
       "      <td>0.0</td>\n",
       "    </tr>\n",
       "  </tbody>\n",
       "</table>\n",
       "<p>1 rows × 50000 columns</p>\n",
       "</div>"
      ],
      "text/plain": [
       "   статус_отступа  unknown    в    и   на    с   по  что   из  для  ...  \\\n",
       "0             0.0      0.0  1.0  1.0  1.0  1.0  1.0  1.0  1.0  1.0  ...   \n",
       "\n",
       "   махараштра  340a   tg  флорес  гватемала  сгки  установочным  габаритным  \\\n",
       "0         0.0   0.0  0.0     0.0        0.0   0.0           0.0         0.0   \n",
       "\n",
       "   аналогом  бабурова  \n",
       "0       0.0       0.0  \n",
       "\n",
       "[1 rows x 50000 columns]"
      ]
     },
     "execution_count": 21,
     "metadata": {},
     "output_type": "execute_result"
    }
   ],
   "source": [
    "df_1 = pd.DataFrame([xAll[0]]) #берем матричный вид первого обращения\n",
    "df_1.columns = list_columns\n",
    "df_1"
   ]
  },
  {
   "cell_type": "code",
   "execution_count": 22,
   "id": "f8f83d37",
   "metadata": {},
   "outputs": [
    {
     "data": {
      "text/plain": [
       "Index(['в', 'и', 'на', 'с', 'по', 'что', 'из', 'для', 'не', 'года',\n",
       "       ...\n",
       "       'крещения', 'чкаловское', 'гитлера', 'бежать', 'концлагеря', 'угнав',\n",
       "       'ракете', 'бекмамбетова', 'головному', 'раиса'],\n",
       "      dtype='object', length=270)"
      ]
     },
     "execution_count": 22,
     "metadata": {},
     "output_type": "execute_result"
    }
   ],
   "source": [
    "# перейдем от индексов обратно к словами\n",
    "df_1[df_1>0].dropna(axis = 1).columns"
   ]
  },
  {
   "cell_type": "markdown",
   "id": "0888ae38",
   "metadata": {},
   "source": [
    "# Преобразование целевой метки"
   ]
  },
  {
   "cell_type": "code",
   "execution_count": 23,
   "id": "b31d499d",
   "metadata": {},
   "outputs": [
    {
     "name": "stdout",
     "output_type": "stream",
     "text": [
      "['авиа транспорт' 'водный транспорт']\n",
      "(2193,)\n",
      "[1 1 1 1 1 1 1 1 1 1]\n"
     ]
    }
   ],
   "source": [
    "#Преобразовываем категории в векторы\n",
    "encoder = LabelEncoder() # Вызываем метод кодирования тестовых лейблов из библиотеки sklearn\n",
    "encoder.fit(classes) # Подгружаем в него категории из нашей базы\n",
    "classesEncoded = encoder.transform(classes) # Кодируем категории\n",
    "print(encoder.classes_)\n",
    "print(classesEncoded.shape)\n",
    "print(classesEncoded[:10])"
   ]
  },
  {
   "cell_type": "code",
   "execution_count": 24,
   "id": "7b867c46",
   "metadata": {},
   "outputs": [
    {
     "name": "stdout",
     "output_type": "stream",
     "text": [
      "(2193, 3)\n",
      "[0. 1. 0.]\n"
     ]
    }
   ],
   "source": [
    "yAll = utils.to_categorical(classesEncoded, nClasses) # И выводим каждый лейбл в виде вектора\n",
    "print(yAll.shape) # Посмотрим на форму лейблов категорий\n",
    "print(yAll[0])"
   ]
  },
  {
   "cell_type": "markdown",
   "id": "79bd7690",
   "metadata": {},
   "source": [
    "# Нейронная сеть"
   ]
  },
  {
   "cell_type": "code",
   "execution_count": 25,
   "id": "bae7ed53",
   "metadata": {},
   "outputs": [
    {
     "name": "stdout",
     "output_type": "stream",
     "text": [
      "(1754, 50000)\n",
      "(1754, 3)\n"
     ]
    }
   ],
   "source": [
    "# разбиваем все данные на обучающую и тестовую выборки\n",
    "xTrain, xVal, yTrain, yVal = train_test_split(xAll, yAll, test_size=0.2, shuffle = True)\n",
    "print(xTrain.shape) #посмотрим на форму текстов из обучающей выборки\n",
    "print(yTrain.shape) #и на форму соответсвующих им классов"
   ]
  },
  {
   "cell_type": "code",
   "execution_count": 26,
   "id": "b1b1b8bd",
   "metadata": {},
   "outputs": [
    {
     "name": "stdout",
     "output_type": "stream",
     "text": [
      "Epoch 1/15\n",
      "28/28 [==============================] - 2s 39ms/step - loss: 0.5645 - accuracy: 0.8090 - val_loss: 0.1323 - val_accuracy: 0.9727\n",
      "Epoch 2/15\n",
      "28/28 [==============================] - 1s 32ms/step - loss: 0.0861 - accuracy: 0.9840 - val_loss: 0.0507 - val_accuracy: 0.9886\n",
      "Epoch 3/15\n",
      "28/28 [==============================] - 1s 30ms/step - loss: 0.0314 - accuracy: 0.9966 - val_loss: 0.0363 - val_accuracy: 0.9932\n",
      "Epoch 4/15\n",
      "28/28 [==============================] - 1s 30ms/step - loss: 0.0162 - accuracy: 0.9983 - val_loss: 0.0296 - val_accuracy: 0.9909\n",
      "Epoch 5/15\n",
      "28/28 [==============================] - 1s 30ms/step - loss: 0.0106 - accuracy: 1.0000 - val_loss: 0.0297 - val_accuracy: 0.9909\n",
      "Epoch 6/15\n",
      "28/28 [==============================] - 1s 29ms/step - loss: 0.0077 - accuracy: 1.0000 - val_loss: 0.0296 - val_accuracy: 0.9909\n",
      "Epoch 7/15\n",
      "28/28 [==============================] - 1s 29ms/step - loss: 0.0050 - accuracy: 1.0000 - val_loss: 0.0291 - val_accuracy: 0.9909\n",
      "Epoch 8/15\n",
      "28/28 [==============================] - 1s 30ms/step - loss: 0.0045 - accuracy: 0.9994 - val_loss: 0.0315 - val_accuracy: 0.9863\n",
      "Epoch 9/15\n",
      "28/28 [==============================] - 1s 29ms/step - loss: 0.0033 - accuracy: 1.0000 - val_loss: 0.0331 - val_accuracy: 0.9841\n",
      "Epoch 10/15\n",
      "28/28 [==============================] - 1s 31ms/step - loss: 0.0021 - accuracy: 1.0000 - val_loss: 0.0326 - val_accuracy: 0.9886\n",
      "Epoch 11/15\n",
      "28/28 [==============================] - 1s 31ms/step - loss: 0.0019 - accuracy: 1.0000 - val_loss: 0.0332 - val_accuracy: 0.9886\n",
      "Epoch 12/15\n",
      "28/28 [==============================] - 1s 34ms/step - loss: 0.0020 - accuracy: 1.0000 - val_loss: 0.0332 - val_accuracy: 0.9886\n",
      "Epoch 13/15\n",
      "28/28 [==============================] - 1s 30ms/step - loss: 0.0014 - accuracy: 1.0000 - val_loss: 0.0331 - val_accuracy: 0.9886\n",
      "Epoch 14/15\n",
      "28/28 [==============================] - 1s 30ms/step - loss: 0.0011 - accuracy: 1.0000 - val_loss: 0.0324 - val_accuracy: 0.9886\n",
      "Epoch 15/15\n",
      "28/28 [==============================] - 1s 30ms/step - loss: 9.5472e-04 - accuracy: 1.0000 - val_loss: 0.0317 - val_accuracy: 0.9886\n"
     ]
    },
    {
     "data": {
      "image/png": "[encoded data removed]",
      "text/plain": [
       "<Figure size 432x288 with 1 Axes>"
      ]
     },
     "metadata": {
      "needs_background": "light"
     },
     "output_type": "display_data"
    }
   ],
   "source": [
    "#Создаём полносвязную сеть\n",
    "model01 = Sequential()\n",
    "#Входной полносвязный слой\n",
    "model01.add(Dense(64, input_dim=maxWordsCount,\n",
    "                  activation='relu'))\n",
    "#Слой регуляризации Dropout\n",
    "model01.add(Dropout(0.4))\n",
    "#Второй полносвязный слой\n",
    "model01.add(Dense(64, activation='relu'))\n",
    "#Слой регуляризации Dropout\n",
    "model01.add(Dropout(0.4))\n",
    "#Выходной полносвязный слой\n",
    "model01.add(Dense(nClasses, activation='softmax'))\n",
    "\n",
    "\n",
    "model01.compile(optimizer='adam', \n",
    "              loss='categorical_crossentropy', \n",
    "              metrics=['accuracy'])\n",
    "\n",
    "#Обучаем сеть на выборке\n",
    "history = model01.fit(xTrain, \n",
    "                    yTrain, \n",
    "                    epochs=15,#20\n",
    "                    batch_size=64,#128\n",
    "                    validation_data=(xVal, yVal))\n",
    "\n",
    "plt.plot(history.history['accuracy'], \n",
    "         label='Доля верных ответов на обучающем наборе')\n",
    "plt.plot(history.history['val_accuracy'], \n",
    "         label='Доля верных ответов на проверочном наборе')\n",
    "plt.xlabel('Эпоха обучения')\n",
    "plt.ylabel('Доля верных ответов')\n",
    "plt.legend()\n",
    "plt.show()"
   ]
  },
  {
   "cell_type": "code",
   "execution_count": 27,
   "id": "8f9a57ee",
   "metadata": {},
   "outputs": [
    {
     "data": {
      "image/png": "[encoded data removed]",
      "text/plain": [
       "<Figure size 1008x504 with 1 Axes>"
      ]
     },
     "metadata": {
      "needs_background": "light"
     },
     "output_type": "display_data"
    }
   ],
   "source": [
    "plt.figure(figsize=(14,7))\n",
    "plt.plot(history.history['loss'], \n",
    "         label='Ошибка на обучающем наборе')\n",
    "plt.plot(history.history['val_loss'], \n",
    "         label='Ошибка на проверочном наборе')\n",
    "plt.xlabel('Эпоха обучения')\n",
    "plt.ylabel('Ошибка')\n",
    "plt.legend()\n",
    "plt.show()"
   ]
  },
  {
   "cell_type": "code",
   "execution_count": 28,
   "id": "118ea4f1",
   "metadata": {},
   "outputs": [
    {
     "name": "stdout",
     "output_type": "stream",
     "text": [
      "Model: \"sequential\"\n",
      "_________________________________________________________________\n",
      " Layer (type)                Output Shape              Param #   \n",
      "=================================================================\n",
      " dense (Dense)               (None, 64)                3200064   \n",
      "                                                                 \n",
      " dropout (Dropout)           (None, 64)                0         \n",
      "                                                                 \n",
      " dense_1 (Dense)             (None, 64)                4160      \n",
      "                                                                 \n",
      " dropout_1 (Dropout)         (None, 64)                0         \n",
      "                                                                 \n",
      " dense_2 (Dense)             (None, 3)                 195       \n",
      "                                                                 \n",
      "=================================================================\n",
      "Total params: 3,204,419\n",
      "Trainable params: 3,204,419\n",
      "Non-trainable params: 0\n",
      "_________________________________________________________________\n"
     ]
    }
   ],
   "source": [
    "model01.summary()"
   ]
  },
  {
   "cell_type": "markdown",
   "id": "542e5204",
   "metadata": {},
   "source": [
    "# Формирование прогноза"
   ]
  },
  {
   "cell_type": "code",
   "execution_count": 29,
   "id": "68317a0f",
   "metadata": {},
   "outputs": [
    {
     "data": {
      "text/html": [
       "<div>\n",
       "<style scoped>\n",
       "    .dataframe tbody tr th:only-of-type {\n",
       "        vertical-align: middle;\n",
       "    }\n",
       "\n",
       "    .dataframe tbody tr th {\n",
       "        vertical-align: top;\n",
       "    }\n",
       "\n",
       "    .dataframe thead th {\n",
       "        text-align: right;\n",
       "    }\n",
       "</style>\n",
       "<table border=\"1\" class=\"dataframe\">\n",
       "  <thead>\n",
       "    <tr style=\"text-align: right;\">\n",
       "      <th></th>\n",
       "      <th>0</th>\n",
       "    </tr>\n",
       "  </thead>\n",
       "  <tbody>\n",
       "    <tr>\n",
       "      <th>0</th>\n",
       "      <td>Двенадцатого мая в 15:42 при выполнении планов...</td>\n",
       "    </tr>\n",
       "    <tr>\n",
       "      <th>1</th>\n",
       "      <td>\"Горбатый\", \"железный Густав\", \"бетонный самол...</td>\n",
       "    </tr>\n",
       "    <tr>\n",
       "      <th>2</th>\n",
       "      <td>Ледокол «Капитан Драницын» вернулся в порт при...</td>\n",
       "    </tr>\n",
       "  </tbody>\n",
       "</table>\n",
       "</div>"
      ],
      "text/plain": [
       "                                                   0\n",
       "0  Двенадцатого мая в 15:42 при выполнении планов...\n",
       "1  \"Горбатый\", \"железный Густав\", \"бетонный самол...\n",
       "2  Ледокол «Капитан Драницын» вернулся в порт при..."
      ]
     },
     "execution_count": 29,
     "metadata": {},
     "output_type": "execute_result"
    }
   ],
   "source": [
    "pred=pd.read_excel (\"pred_kurs_analys_text.xlsx\",header=None)\n",
    "pred"
   ]
  },
  {
   "cell_type": "code",
   "execution_count": 30,
   "id": "88ad4a3a",
   "metadata": {},
   "outputs": [],
   "source": [
    "pred=pred[0].values"
   ]
  },
  {
   "cell_type": "code",
   "execution_count": 31,
   "id": "b053f15b",
   "metadata": {},
   "outputs": [],
   "source": [
    "pred= [x_pred.lower() for x_pred in pred]\n",
    "\n",
    "pred= [re.sub(r'\\W+', ' ', x_pred) for x_pred in pred]"
   ]
  },
  {
   "cell_type": "code",
   "execution_count": 32,
   "id": "c772d4be",
   "metadata": {},
   "outputs": [
    {
     "name": "stdout",
     "output_type": "stream",
     "text": [
      "(3, 50000)\n",
      "[0. 0. 1. 0. 0. 1. 0. 1. 0. 0. 0. 0. 1. 1. 1. 0. 0. 0. 0. 0.]\n"
     ]
    }
   ],
   "source": [
    "tokenizer = Tokenizer(num_words=maxWordsCount, filters='!\"#$%&()*+,-./:;<=>?@[\\\\]^_`{|}~\\t\\n',\n",
    "                      lower=True, split=' ', oov_token='unknown', char_level=False)\n",
    "\n",
    "tokenizer.fit_on_texts(pred) \n",
    "\n",
    "xAll_pred = tokenizer.texts_to_matrix(pred)\n",
    "\n",
    "print(xAll_pred.shape) \n",
    "print(xAll_pred[0, :20])"
   ]
  },
  {
   "cell_type": "code",
   "execution_count": 33,
   "id": "8b1d0d3c",
   "metadata": {},
   "outputs": [
    {
     "name": "stdout",
     "output_type": "stream",
     "text": [
      "1/1 [==============================] - 0s 65ms/step\n"
     ]
    }
   ],
   "source": [
    "currPred = model01.predict(xAll_pred)\n",
    "#Определяем номер распознанного класса для каждого блока слов \n",
    "currOut = np.argmax(currPred, axis=1)"
   ]
  },
  {
   "cell_type": "code",
   "execution_count": 34,
   "id": "5ab861d5",
   "metadata": {},
   "outputs": [
    {
     "data": {
      "text/plain": [
       "array([0, 0, 1], dtype=int64)"
      ]
     },
     "execution_count": 34,
     "metadata": {},
     "output_type": "execute_result"
    }
   ],
   "source": [
    "currOut"
   ]
  },
  {
   "cell_type": "code",
   "execution_count": 35,
   "id": "31f6fa2c",
   "metadata": {},
   "outputs": [
    {
     "data": {
      "text/plain": [
       "array(['авиа транспорт', 'авиа транспорт', 'водный транспорт'],\n",
       "      dtype='<U16')"
      ]
     },
     "execution_count": 35,
     "metadata": {},
     "output_type": "execute_result"
    }
   ],
   "source": [
    "encoder.inverse_transform(currOut)"
   ]
  },
  {
   "cell_type": "code",
   "execution_count": null,
   "id": "f70d283b",
   "metadata": {},
   "outputs": [],
   "source": []
  },
  {
   "cell_type": "code",
   "execution_count": null,
   "id": "a7ced074",
   "metadata": {},
   "outputs": [],
   "source": []
  },
  {
   "cell_type": "code",
   "execution_count": null,
   "id": "551c716a",
   "metadata": {},
   "outputs": [],
   "source": []
  },
  {
   "cell_type": "code",
   "execution_count": null,
   "id": "69fd6be4",
   "metadata": {},
   "outputs": [],
   "source": []
  },
  {
   "cell_type": "code",
   "execution_count": null,
   "id": "bf2b692e",
   "metadata": {},
   "outputs": [],
   "source": []
  },
  {
   "cell_type": "code",
   "execution_count": null,
   "id": "2995fc91",
   "metadata": {},
   "outputs": [],
   "source": []
  },
  {
   "cell_type": "code",
   "execution_count": null,
   "id": "43babccc",
   "metadata": {},
   "outputs": [],
   "source": []
  },
  {
   "cell_type": "code",
   "execution_count": null,
   "id": "8f2faa6b",
   "metadata": {},
   "outputs": [],
   "source": []
  }
 ],
 "metadata": {
  "kernelspec": {
   "display_name": "Python 3",
   "language": "python",
   "name": "python3"
  },
  "language_info": {
   "codemirror_mode": {
    "name": "ipython",
    "version": 3
   },
   "file_extension": ".py",
   "mimetype": "text/x-python",
   "name": "python",
   "nbconvert_exporter": "python",
   "pygments_lexer": "ipython3",
   "version": "3.8.8"
  }
 },
 "nbformat": 4,
 "nbformat_minor": 5
}
